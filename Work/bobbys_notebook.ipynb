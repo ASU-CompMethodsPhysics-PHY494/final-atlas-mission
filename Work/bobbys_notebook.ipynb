{
 "cells": [
  {
   "cell_type": "code",
   "execution_count": 2,
   "metadata": {
    "collapsed": true
   },
   "outputs": [],
   "source": [
    "import numpy as np\n",
    "import matplotlib\n",
    "import matplotlib.pyplot as plt\n",
    "matplotlib.style.use(\"ggplot\")\n",
    "%matplotlib inline"
   ]
  },
  {
   "cell_type": "code",
   "execution_count": 3,
   "metadata": {
    "collapsed": false
   },
   "outputs": [],
   "source": [
    "class body:\n",
    "    \"\"\"defines a new class for bodies in our system\n",
    "    Input:\n",
    "    ------\n",
    "    m\n",
    "        mass of the body measured in kg\n",
    "    r\n",
    "        linear distance from the Sun (center of system) measured in km \n",
    "    th\n",
    "        angular position measured in degrees\n",
    "    v\n",
    "        tangential velocity measured in km/s\n",
    "    \"\"\"\n",
    "    \n",
    "    def __init__(self,m,r,th,v):\n",
    "        self.m = m\n",
    "        self.r = r\n",
    "        self.th = th\n",
    "        self.v = v\n",
    "        \n",
    "        \n",
    "Sun = body(1.989e30,0,0,0)\n",
    "Venus = body(4.87e24,108.2e6,14.22,2.246991e2)\n",
    "Earth = body(5.97e24,149.6e6,219.09,3.65200e2)\n",
    "Mars = body(0.642e24,227.9e6,229.93,6.87e2)\n",
    "Jupiter = body(1898e24,778.6e6,172.26,8.1660e2)\n",
    "Saturn = body(568e24,1433.5e6,252.77,1.5145e3)\n",
    "Titan = body(0.1345e24,1434.7e6,252.77,5.57)\n",
    "\n",
    "#creates a list of all bodies\n",
    "bodies = [Sun,Venus,Earth,Mars,Jupiter,Saturn,Titan]\n",
    "\n",
    "#creates arrays for attributes of each body\n",
    "m = np.zeros(len(bodies))\n",
    "r = np.zeros_like(m)\n",
    "v = np.zeros_like(m)\n",
    "th = np.zeros_like(m)\n",
    "\n",
    "for i in range(len(bodies)):\n",
    "    m[i] = bodies[i].m\n",
    "    r[i] = bodies[i].r\n",
    "    v[i] = bodies[i].v\n",
    "    th[i] = bodies[i].th"
   ]
  },
  {
   "cell_type": "code",
   "execution_count": 8,
   "metadata": {
    "collapsed": false
   },
   "outputs": [],
   "source": [
    "def position_components(th, r):\n",
    "    th_rad = np.deg2rad(th)\n",
    "    x = r*np.cos(th_rad)\n",
    "    y = r*np.sin(th_rad)\n",
    "    return np.array([x, y])\n",
    "\n",
    "r_com = position_components(th,r)"
   ]
  },
  {
   "cell_type": "code",
   "execution_count": 11,
   "metadata": {
    "collapsed": false
   },
   "outputs": [],
   "source": [
    "dist_com = np.zeros((2,len(bodies),len(bodies)))\n",
    "for i in range(2):\n",
    "    for j in range(len(bodies)):\n",
    "        for k in range(len(bodies)):\n",
    "            if j != k:\n",
    "                dist_com[i][j][k] = r_com[i][k]-r_com[i][j]"
   ]
  },
  {
   "cell_type": "code",
   "execution_count": 16,
   "metadata": {
    "collapsed": false
   },
   "outputs": [
    {
     "data": {
      "text/plain": [
       "(array([  0.00000000e+00,   1.08200000e+08,   1.49600000e+08,\n",
       "          2.27900000e+08,   7.78600000e+08,   1.43350000e+09,\n",
       "          1.43470000e+09]),\n",
       " array([[[  0.00000000e+00,   1.04884715e+08,  -1.16113008e+08,\n",
       "           -1.46704478e+08,  -7.71506501e+08,  -4.24614443e+08,\n",
       "           -4.24969893e+08],\n",
       "         [ -1.04884715e+08,   0.00000000e+00,  -2.20997723e+08,\n",
       "           -2.51589194e+08,  -8.76391216e+08,  -5.29499159e+08,\n",
       "           -5.29854609e+08],\n",
       "         [  1.16113008e+08,   2.20997723e+08,   0.00000000e+00,\n",
       "           -3.05914707e+07,  -6.55393493e+08,  -3.08501436e+08,\n",
       "           -3.08856885e+08],\n",
       "         [  1.46704478e+08,   2.51589194e+08,   3.05914707e+07,\n",
       "            0.00000000e+00,  -6.24802023e+08,  -2.77909965e+08,\n",
       "           -2.78265415e+08],\n",
       "         [  7.71506501e+08,   8.76391216e+08,   6.55393493e+08,\n",
       "            6.24802023e+08,   0.00000000e+00,   3.46892058e+08,\n",
       "            3.46536608e+08],\n",
       "         [  4.24614443e+08,   5.29499159e+08,   3.08501436e+08,\n",
       "            2.77909965e+08,  -3.46892058e+08,   0.00000000e+00,\n",
       "           -3.55449830e+05],\n",
       "         [  4.24969893e+08,   5.29854609e+08,   3.08856885e+08,\n",
       "            2.78265415e+08,  -3.46536608e+08,   3.55449830e+05,\n",
       "            0.00000000e+00]],\n",
       " \n",
       "        [[  0.00000000e+00,   2.65788724e+07,  -9.43288367e+07,\n",
       "           -1.74402425e+08,   1.04860283e+08,  -1.36916939e+09,\n",
       "           -1.37031554e+09],\n",
       "         [ -2.65788724e+07,   0.00000000e+00,  -1.20907709e+08,\n",
       "           -2.00981298e+08,   7.82814102e+07,  -1.39574826e+09,\n",
       "           -1.39689441e+09],\n",
       "         [  9.43288367e+07,   1.20907709e+08,   0.00000000e+00,\n",
       "           -8.00735888e+07,   1.99189119e+08,  -1.27484056e+09,\n",
       "           -1.27598670e+09],\n",
       "         [  1.74402425e+08,   2.00981298e+08,   8.00735888e+07,\n",
       "            0.00000000e+00,   2.79262708e+08,  -1.19476697e+09,\n",
       "           -1.19591311e+09],\n",
       "         [ -1.04860283e+08,  -7.82814102e+07,  -1.99189119e+08,\n",
       "           -2.79262708e+08,   0.00000000e+00,  -1.47402967e+09,\n",
       "           -1.47517582e+09],\n",
       "         [  1.36916939e+09,   1.39574826e+09,   1.27484056e+09,\n",
       "            1.19476697e+09,   1.47402967e+09,   0.00000000e+00,\n",
       "           -1.14614808e+06],\n",
       "         [  1.37031554e+09,   1.39689441e+09,   1.27598670e+09,\n",
       "            1.19591311e+09,   1.47517582e+09,   1.14614808e+06,\n",
       "            0.00000000e+00]]]))"
      ]
     },
     "execution_count": 16,
     "metadata": {},
     "output_type": "execute_result"
    }
   ],
   "source": [
    "r,dist_com"
   ]
  },
  {
   "cell_type": "code",
   "execution_count": null,
   "metadata": {
    "collapsed": true
   },
   "outputs": [],
   "source": [
    "Fg = np.zeros_like(distance)\n",
    "def F_grav(m1,m2,d):\n",
    "    G_cnst = 6.6741e-5\n",
    "    Fg = ((-G_cnst*m1*m2)*d/abs(d**3))\n",
    "    return Fg"
   ]
  },
  {
   "cell_type": "code",
   "execution_count": null,
   "metadata": {
    "collapsed": false
   },
   "outputs": [],
   "source": [
    "F_grav(m[0],m[1],distance[1][1][0])"
   ]
  },
  {
   "cell_type": "code",
   "execution_count": null,
   "metadata": {
    "collapsed": false
   },
   "outputs": [],
   "source": [
    "for i in range(2):\n",
    "    for j in range(len(bodies)):\n",
    "        for k in range(len(bodies)):\n",
    "            if j != k:\n",
    "                Fg[i][j][k] = F_grav(m[j],m[k],distance[i][j][k])\n",
    "Fg"
   ]
  },
  {
   "cell_type": "code",
   "execution_count": null,
   "metadata": {
    "collapsed": false
   },
   "outputs": [],
   "source": [
    "#calculates force of gravity between two bodies and creates an array of these forces\n",
    "#example: Sun is bodies[0] and Earth is bodies[2], so gravity[2,0] is the force between Earth and Sun\n",
    "grav = np.zeros((len(bodies),(len(bodies))))\n",
    "grav_net = np.zeros_like(m)\n",
    "pos = np.zeros_like(m)\n",
    "vel = np.zeros_like(m)\n",
    "acc = np.zeros_like(grav)\n",
    "acc_net = np.zeros_like(m)\n",
    "\n",
    "def F_grav(m1,m2,d):\n",
    "    G_cnst = 6.6741e-5\n",
    "    Fg = ((-G_cnst*m1*m2)/d**2)\n",
    "    return Fg\n",
    "\n",
    "#calculates force of gravity and acceleration due to each body\n",
    "def gravity():\n",
    "    for i in range(len(bodies)):\n",
    "        for j in range(len(bodies)):\n",
    "            if i != j and r[i] > r[j]:\n",
    "                grav[i,j] = F_grav(m[i],m[j],(r[j]-r[i]))\n",
    "                acc[i,j] = grav[i,j]/m[i]\n",
    "            if i != j and r[i] < r[j]:\n",
    "                grav[i,j] = -F_grav(m[i],m[j],(r[j]-r[i]))\n",
    "                acc[i,j] = grav[i,j]/m[i]\n",
    "            else:\n",
    "                pass\n",
    "        \n",
    "        grav_net[i] = sum(grav[i])\n",
    "        acc_net[i] = sum(acc[i])\n",
    "        \n",
    "    return grav_net, acc_net\n",
    "grav_net, acc_net = gravity()\n",
    "\n",
    "gx = np.zeros(len(bodies))\n",
    "gy = np.zeros_like(gx)\n",
    "\n",
    "def grav_components(g,th):\n",
    "    th_rad = np.deg2rad(th)\n",
    "    gx = g*np.cos(th_rad)\n",
    "    gy = g*np.sin(th_rad)\n",
    "    g_com = np.array([gx,gy])\n",
    "    return g_com"
   ]
  },
  {
   "cell_type": "code",
   "execution_count": null,
   "metadata": {
    "collapsed": false
   },
   "outputs": [],
   "source": [
    "g_com = np.zeros((len(bodies),2))\n",
    "for i in range(len(bodies)):\n",
    "    for j in range(len(bodies)):\n",
    "        if i!=j:\n",
    "            g_com[i] = F_grav(m[i],m[j],r[j]-r[i])"
   ]
  },
  {
   "cell_type": "code",
   "execution_count": null,
   "metadata": {
    "collapsed": false
   },
   "outputs": [],
   "source": [
    "F_grav(m[0],m[1],r[0]-r[1])"
   ]
  },
  {
   "cell_type": "code",
   "execution_count": null,
   "metadata": {
    "collapsed": false
   },
   "outputs": [],
   "source": [
    "position_components(th[4],r[4]),position_components(th[0],r[0]),F_grav(m[4],m[0],r[4]-r[0]), \\\n",
    "(position_components(th[4],r[4])-position_components(th[0],r[0]))[1]\n"
   ]
  },
  {
   "cell_type": "code",
   "execution_count": null,
   "metadata": {
    "collapsed": false
   },
   "outputs": [],
   "source": [
    "position_components(th[1],r[1]),position_components(th[4],r[4])"
   ]
  },
  {
   "cell_type": "code",
   "execution_count": null,
   "metadata": {
    "collapsed": true
   },
   "outputs": [],
   "source": [
    "def velocity_components(th, v):\n",
    "    \"\"\"converts tangential velocity to cartesian components with respect to sun\n",
    "    Input:\n",
    "    ------\n",
    "    th\n",
    "        angle of planet in degrees\n",
    "    v\n",
    "        orbital velocity of selected planet\n",
    "        \n",
    "    Output:\n",
    "    -------\n",
    "    x, y\n",
    "        x and y coordinates where sun is at origin\n",
    "    \"\"\"\n",
    "    phi = th + 90\n",
    "    vx = v*np.sin(phi)\n",
    "    vy = v*np.cos(phi)\n",
    "    v_com = np.array([vx, vy])\n",
    "    return v_com"
   ]
  },
  {
   "cell_type": "code",
   "execution_count": null,
   "metadata": {
    "collapsed": false
   },
   "outputs": [],
   "source": [
    "dt = 0.1\n",
    "t_max = 10\n",
    "Nsteps = int(t_max / dt)\n",
    "time = dt*np.linspace(0, t_max, Nsteps)\n",
    "\n",
    "def integrate_all_orbits(t_max=3650):\n",
    "    \"\"\"worry about description later\"\"\" \n",
    "    v_half = np.zeros(len(bodies))\n",
    "    r_new = np.zeros(len(bodies))\n",
    "    F_new = np.zeros(len(bodies))\n",
    "    v_new = np.zeros(len(bodies))\n",
    "    \n",
    "    for t in time:\n",
    "        for i in range(len(bodies)):\n",
    "            v_half[i] = v[i] + 0.5*dt*grav_net[i]/m[i]\n",
    "            r[i] = r[i] + dt*v_half[i]\n",
    "            gravity()\n",
    "            F_new[i] = grav_net[i]\n",
    "            v[i] = v_half[i] + 0.5*dt*F_new[i]/m[i]\n",
    "    \n",
    "        return r, v"
   ]
  },
  {
   "cell_type": "code",
   "execution_count": null,
   "metadata": {
    "collapsed": false
   },
   "outputs": [],
   "source": [
    "integrate_all_orbits(t_max = 10)"
   ]
  },
  {
   "cell_type": "code",
   "execution_count": null,
   "metadata": {
    "collapsed": false
   },
   "outputs": [],
   "source": [
    "t"
   ]
  },
  {
   "cell_type": "code",
   "execution_count": null,
   "metadata": {
    "collapsed": true
   },
   "outputs": [],
   "source": []
  }
 ],
 "metadata": {
  "kernelspec": {
   "display_name": "Python 3",
   "language": "python",
   "name": "python3"
  },
  "language_info": {
   "codemirror_mode": {
    "name": "ipython",
    "version": 3
   },
   "file_extension": ".py",
   "mimetype": "text/x-python",
   "name": "python",
   "nbconvert_exporter": "python",
   "pygments_lexer": "ipython3",
   "version": "3.5.1"
  }
 },
 "nbformat": 4,
 "nbformat_minor": 0
}
