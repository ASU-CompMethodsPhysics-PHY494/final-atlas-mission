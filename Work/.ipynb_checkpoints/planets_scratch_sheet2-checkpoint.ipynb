{
 "cells": [
  {
   "cell_type": "code",
   "execution_count": 3,
   "metadata": {
    "collapsed": false
   },
   "outputs": [],
   "source": [
    "import numpy as np\n",
    "\n",
    "# mass of solar system bodies in kg\n",
    "mass = {'Sun': 1.989e30, 'Venus': 4.87e24, 'Earth': 5.97e24, \n",
    "             'Mars': 0.642e24, 'Jupiter': 1898e24, 'Saturn': 568e24, \n",
    "             'Titan': 0.1345e24}\n",
    "\n",
    "# distance from sun in km\n",
    "distance = {'Venus': 108.2e6, 'Earth': 149.6e6, 'Mars': 227.9e6,\n",
    "             'Jupiter': 778.6e6, 'Saturn': 1433.5e6}\n",
    "\n",
    "# initial radial degree \n",
    "initial_deg = {'Venus': 14.22, 'Earth': 219.09, 'Mars': 229.93, \n",
    "                'Jupiter': 172.26, 'Saturn': 252.77}\n",
    "\n",
    "# orbital velocities in km/day\n",
    "orbital_velocity = {'Venus': 1.9414e7, 'Earth': 3.15533e7, 'Mars': 5.93568e7, \n",
    "                   'Jupiter': 7.05542e7, 'Saturn': 1.308528e8}\n",
    "\n",
    "def position_components(deg, distance):\n",
    "    \"\"\"converts polar coordinates to cartesian coordinates for position\n",
    "    Input:\n",
    "    ------\n",
    "    deg\n",
    "        angle in degrees\n",
    "    distance\n",
    "        distance from sun to planet (used for conversion calculation)\n",
    "        \n",
    "    Output:\n",
    "    -------\n",
    "    x, y\n",
    "        x and y coordinates where sun is at origin\n",
    "    \"\"\"\n",
    "    rad = np.deg2rad(deg)\n",
    "    x = distance*np.cos(rad)\n",
    "    y = distance*np.sin(rad)\n",
    "    return np.array([x, y])\n",
    "\n",
    "def velocity_components(deg, orbital_velocity):\n",
    "    \"\"\"converts tangential velocity to cartesian components with respect to sun\n",
    "    Input:\n",
    "    ------\n",
    "    deg\n",
    "        angle of planet in degrees\n",
    "    orbital velocity\n",
    "        orbital velocity of selected planet\n",
    "        \n",
    "    Output:\n",
    "    -------\n",
    "    x, y\n",
    "        x and y coordinates where sun is at origin\n",
    "    \"\"\"\n",
    "    phi = deg + 90\n",
    "    rad = np.deg2rad(phi)\n",
    "    vx = orbital_velocity*np.sin(rad)\n",
    "    vy = orbital_velocity*np.cos(rad)\n",
    "    return vx, vy\n",
    "    \n",
    "def F_gravity(r, m, M):\n",
    "    G_grav = 5e-10\n",
    "    rr = np.sum(r*r)\n",
    "    r_hat = r/np.sqrt(rr)\n",
    "    return (-G_grav* m * M * r_hat) / rr\n",
    "\n",
    "def integrate_all_orbits(t_max=3650):\n",
    "    \"\"\"worry about description later\"\"\"\n",
    "    r0 = np.zeros((5, 2))\n",
    "    v0 = np.zeros_like(r0)\n",
    "    \n",
    "    dt = 0.1\n",
    "    Nsteps = int(t_max // dt)\n",
    "    t = dt*np.linspace(0, t_max, Nsteps)\n",
    "    \n",
    "    r0[0] = position_components(initial_deg['Venus'], distance['Venus'])\n",
    "    r0[1] = position_components(initial_deg['Earth'], distance['Earth'])\n",
    "    r0[2] = position_components(initial_deg['Mars'], distance['Mars'])\n",
    "    r0[3] = position_components(initial_deg['Jupiter'], distance['Jupiter'])\n",
    "    r0[4] = position_components(initial_deg['Saturn'], distance['Saturn'])\n",
    "    \n",
    "    v0[0] = velocity_components(initial_deg['Venus'], orbital_velocity['Venus'])\n",
    "    v0[1] = velocity_components(initial_deg['Earth'], orbital_velocity['Earth'])\n",
    "    v0[2] = velocity_components(initial_deg['Mars'], orbital_velocity['Mars'])\n",
    "    v0[3] = velocity_components(initial_deg['Jupiter'], orbital_velocity['Jupiter'])\n",
    "    v0[4] = velocity_components(initial_deg['Saturn'], orbital_velocity['Saturn'])\n",
    "    \n",
    "    r = np.zeros([Nsteps, 5, 2])\n",
    "    v = np.zeros_like(r)\n",
    "    \n",
    "    for i in range(0, 5):\n",
    "        r[0, i, :] = r0[i]\n",
    "        v[0, i, :] = v0[i]\n",
    "    \n",
    "    Ft_0 = (F_gravity(r[0, 0], mass['Venus'], mass['Sun']) + \n",
    "            F_gravity(r[0, 0]-r[0, 1], mass['Venus'], mass['Earth']) + \n",
    "            F_gravity(r[0, 0]-r[0, 2], mass['Venus'], mass['Mars']) + \n",
    "            F_gravity(r[0, 0]-r[0, 3], mass['Venus'], mass['Jupiter']) + \n",
    "            F_gravity(r[0, 0]-r[0, 4], mass['Venus'], mass['Saturn']))\n",
    "    Ft_1 = (F_gravity(r[0, 1], mass['Earth'], mass['Sun']) + \n",
    "            F_gravity(r[0, 1]-r[0, 0], mass['Earth'], mass['Venus']) + \n",
    "            F_gravity(r[0, 1]-r[0, 2], mass['Earth'], mass['Mars']) + \n",
    "            F_gravity(r[0, 1]-r[0, 3], mass['Earth'], mass['Jupiter']) + \n",
    "            F_gravity(r[0, 1]-r[0, 4], mass['Earth'], mass['Saturn']))\n",
    "    Ft_2 = (F_gravity(r[0, 2], mass['Mars'], mass['Sun']) + \n",
    "            F_gravity(r[0, 2]-r[0, 0], mass['Mars'], mass['Venus']) + \n",
    "            F_gravity(r[0, 2]-r[0, 1], mass['Mars'], mass['Earth']) + \n",
    "            F_gravity(r[0, 2]-r[0, 3], mass['Mars'], mass['Jupiter']) + \n",
    "            F_gravity(r[0, 2]-r[0, 4], mass['Mars'], mass['Saturn']))\n",
    "    Ft_3 = (F_gravity(r[0, 3], mass['Jupiter'], mass['Sun']) + \n",
    "            F_gravity(r[0, 3]-r[0, 0], mass['Jupiter'], mass['Venus']) + \n",
    "            F_gravity(r[0, 3]-r[0, 1], mass['Jupiter'], mass['Earth']) + \n",
    "            F_gravity(r[0, 3]-r[0, 2], mass['Jupiter'], mass['Mars']) + \n",
    "            F_gravity(r[0, 3]-r[0, 4], mass['Jupiter'], mass['Saturn']))\n",
    "    Ft_4 = (F_gravity(r[0, 4], mass['Saturn'], mass['Sun']) + \n",
    "            F_gravity(r[0, 4]-r[0, 0], mass['Saturn'], mass['Venus']) + \n",
    "            F_gravity(r[0, 4]-r[0, 1], mass['Saturn'], mass['Earth']) + \n",
    "            F_gravity(r[0, 4]-r[0, 2], mass['Saturn'], mass['Mars']) + \n",
    "            F_gravity(r[0, 4]-r[0, 3], mass['Saturn'], mass['Jupiter']))\n",
    "    \n",
    "    for i in range(Nsteps-1):\n",
    "        v_half_0 = v[i, 0] + 0.5*dt*Ft_0/mass['Venus']\n",
    "        v_half_1 = v[i, 1] + 0.5*dt*Ft_1/mass['Earth']\n",
    "        v_half_2 = v[i, 2] + 0.5*dt*Ft_2/mass['Mars']\n",
    "        v_half_3 = v[i, 3] + 0.5*dt*Ft_3/mass['Jupiter']\n",
    "        v_half_4 = v[i, 4] + 0.5*dt*Ft_4/mass['Saturn']\n",
    "        r[i+1, 0] = r[i, 0] + dt*v_half_0\n",
    "        r[i+1, 1] = r[i, 1] + dt*v_half_1\n",
    "        r[i+1, 2] = r[i, 2] + dt*v_half_2\n",
    "        r[i+1, 3] = r[i, 3] + dt*v_half_3\n",
    "        r[i+1, 4] = r[i, 4] + dt*v_half_4\n",
    "        Ft_next_0 = (F_gravity(r[i+1, 0], mass['Venus'], mass['Sun']) + \n",
    "            F_gravity(r[i+1, 0]-r[i+1, 1], mass['Venus'], mass['Earth']) + \n",
    "            F_gravity(r[i+1, 0]-r[i+1, 2], mass['Venus'], mass['Mars']) + \n",
    "            F_gravity(r[i+1, 0]-r[i+1, 3], mass['Venus'], mass['Jupiter']) + \n",
    "            F_gravity(r[i+1, 0]-r[i+1, 4], mass['Venus'], mass['Saturn']))\n",
    "        Ft_next_1 = (F_gravity(r[i+1, 1], mass['Earth'], mass['Sun']) + \n",
    "            F_gravity(r[i+1, 1]-r[i+1, 0], mass['Earth'], mass['Venus']) + \n",
    "            F_gravity(r[i+1, 1]-r[i+1, 2], mass['Earth'], mass['Mars']) + \n",
    "            F_gravity(r[i+1, 1]-r[i+1, 3], mass['Earth'], mass['Jupiter']) + \n",
    "            F_gravity(r[i+1, 1]-r[i+1, 4], mass['Earth'], mass['Saturn']))\n",
    "        Ft_next_2 = (F_gravity(r[i+1, 2], mass['Mars'], mass['Sun']) + \n",
    "            F_gravity(r[i+1, 2]-r[i+1, 0], mass['Mars'], mass['Venus']) + \n",
    "            F_gravity(r[i+1, 2]-r[i+1, 1], mass['Mars'], mass['Earth']) + \n",
    "            F_gravity(r[i+1, 2]-r[i+1, 3], mass['Mars'], mass['Jupiter']) + \n",
    "            F_gravity(r[i+1, 2]-r[i+1, 4], mass['Mars'], mass['Saturn']))\n",
    "        Ft_next_3 = (F_gravity(r[i+1, 3], mass['Jupiter'], mass['Sun']) + \n",
    "            F_gravity(r[i+1, 3]-r[i+1, 0], mass['Jupiter'], mass['Venus']) + \n",
    "            F_gravity(r[i+1, 3]-r[i+1, 1], mass['Jupiter'], mass['Earth']) + \n",
    "            F_gravity(r[i+1, 3]-r[i+1, 2], mass['Jupiter'], mass['Mars']) + \n",
    "            F_gravity(r[i+1, 3]-r[i+1, 4], mass['Jupiter'], mass['Saturn']))\n",
    "        Ft_next_4 = (F_gravity(r[i+1, 4], mass['Saturn'], mass['Sun']) + \n",
    "            F_gravity(r[i+1, 4]-r[i+1, 0], mass['Saturn'], mass['Venus']) + \n",
    "            F_gravity(r[i+1, 4]-r[i+1, 1], mass['Saturn'], mass['Earth']) + \n",
    "            F_gravity(r[i+1, 4]-r[i+1, 2], mass['Saturn'], mass['Mars']) + \n",
    "            F_gravity(r[i+1, 4]-r[i+1, 3], mass['Saturn'], mass['Jupiter']))\n",
    "        \n",
    "        v[i+1, 0] = v_half_0 + 0.5*dt*Ft_next_0/mass['Venus']\n",
    "        v[i+1, 1] = v_half_1 + 0.5*dt*Ft_next_1/mass['Earth']\n",
    "        v[i+1, 2] = v_half_2 + 0.5*dt*Ft_next_2/mass['Mars']\n",
    "        v[i+1, 3] = v_half_3 + 0.5*dt*Ft_next_3/mass['Jupiter']\n",
    "        v[i+1, 4] = v_half_4 + 0.5*dt*Ft_next_4/mass['Saturn']\n",
    "        Ft_0 = Ft_next_0\n",
    "        Ft_1 = Ft_next_1\n",
    "        Ft_2 = Ft_next_2\n",
    "        Ft_3 = Ft_next_3\n",
    "        Ft_4 = Ft_next_4\n",
    "    \n",
    "    return r, v"
   ]
  },
  {
   "cell_type": "code",
   "execution_count": 4,
   "metadata": {
    "collapsed": false
   },
   "outputs": [],
   "source": [
    "r, v = integrate_all_orbits(t_max=500)"
   ]
  },
  {
   "cell_type": "code",
   "execution_count": 5,
   "metadata": {
    "collapsed": false
   },
   "outputs": [
    {
     "data": {
      "text/plain": [
       "array([[  1.04884715e+08,   2.65788724e+07],\n",
       "       [  1.06766219e+08,   2.61018714e+07],\n",
       "       [  1.08646922e+08,   2.56246749e+07],\n",
       "       [  1.10526849e+08,   2.51472951e+07],\n",
       "       [  1.12406020e+08,   2.46697437e+07],\n",
       "       [  1.14284459e+08,   2.41920312e+07],\n",
       "       [  1.16162184e+08,   2.37141678e+07],\n",
       "       [  1.18039216e+08,   2.32361630e+07],\n",
       "       [  1.19915574e+08,   2.27580254e+07],\n",
       "       [  1.21791277e+08,   2.22797633e+07]])"
      ]
     },
     "execution_count": 5,
     "metadata": {},
     "output_type": "execute_result"
    }
   ],
   "source": [
    "r[0:10, 0, :]"
   ]
  },
  {
   "cell_type": "code",
   "execution_count": 6,
   "metadata": {
    "collapsed": false
   },
   "outputs": [
    {
     "name": "stdout",
     "output_type": "stream",
     "text": [
      "Simulating Venus, Earth, Mars, Jupiter, and Saturn orbits\n"
     ]
    },
    {
     "data": {
      "text/plain": [
       "<matplotlib.legend.Legend at 0x1086116d8>"
      ]
     },
     "execution_count": 6,
     "metadata": {},
     "output_type": "execute_result"
    },
    {
     "data": {
      "image/png": "[encoded data removed]",
      "text/plain": [
       "<matplotlib.figure.Figure at 0x104a09cf8>"
      ]
     },
     "metadata": {},
     "output_type": "display_data"
    }
   ],
   "source": [
    "import matplotlib\n",
    "import matplotlib.pyplot as plt\n",
    "matplotlib.style.use(\"ggplot\")\n",
    "%matplotlib inline\n",
    "\n",
    "\n",
    "print(\"Simulating Venus, Earth, Mars, Jupiter, and Saturn orbits\")\n",
    "\n",
    "rV = r[:, 0, :]\n",
    "rE = r[:, 1, :]\n",
    "rM = r[:, 2, :]\n",
    "rJ = r[:, 3, :]\n",
    "rS = r[:, 4, :]\n",
    "vV = v[:, 0, :]\n",
    "    \n",
    "plt.figure(figsize=(8,8))\n",
    "plt.plot(rV[:, 0], rV[:, 1], label=\"V\")\n",
    "plt.plot(rE[:, 0], rE[:, 1], label=\"E\")\n",
    "plt.plot(rM[:, 0], rM[:, 1], label=\"M\")\n",
    "plt.plot(rJ[:, 0], rJ[:, 1], label=\"J\")\n",
    "plt.plot(rS[:, 0], rS[:, 1], label=\"S\")\n",
    "plt.legend(loc='best')"
   ]
  },
  {
   "cell_type": "code",
   "execution_count": null,
   "metadata": {
    "collapsed": true
   },
   "outputs": [],
   "source": []
  }
 ],
 "metadata": {
  "kernelspec": {
   "display_name": "Python 3",
   "language": "python",
   "name": "python3"
  },
  "language_info": {
   "codemirror_mode": {
    "name": "ipython",
    "version": 3
   },
   "file_extension": ".py",
   "mimetype": "text/x-python",
   "name": "python",
   "nbconvert_exporter": "python",
   "pygments_lexer": "ipython3",
   "version": "3.5.1"
  }
 },
 "nbformat": 4,
 "nbformat_minor": 0
}
