{
 "cells": [
  {
   "cell_type": "code",
   "execution_count": 26,
   "metadata": {
    "collapsed": true
   },
   "outputs": [],
   "source": [
    "import numpy as np\n",
    "\n",
    "# mass of solar system bodies in kg\n",
    "body_mass = {'Sun': 1.989e30, 'Venus': 4.87e24, 'Earth': 5.97e24, \n",
    "             'Mars': 0.642e24, 'Jupiter': 1898e24, 'Saturn': 568e24, \n",
    "             'Titan': 0.1345e24}\n",
    "\n",
    "# distance from sun in km\n",
    "distance = {'Venus': 108.2e6, 'Earth': 149.6e6, 'Mars': 227.9e6,\n",
    "             'Jupiter': 778.6e6, 'Saturn': 1433.5e6}\n",
    "\n",
    "# initial radial degree \n",
    "initial_deg = {'Venus': 14.22, 'Earth': 219.09, 'Mars': 229.93, \n",
    "                'Jupiter': 172.26, 'Saturn': 252.77}\n",
    "\n",
    "# orbital velocities in km/day\n",
    "orbital_velocity = {'Venus': 1.9414e7, 'Earth': 3.15533e7, 'Mars': 5.93568e7, \n",
    "                   'Jupiter': 7.05542e7, 'Saturn': 1.308528e8}\n",
    "\n",
    "def polar_to_cartesian(initial_deg, distance):\n",
    "    \"\"\"converts polar coordinates to cartesian coordinates\n",
    "    Input:\n",
    "    ------\n",
    "    initial_deg\n",
    "        initial angle in degrees\n",
    "    distance\n",
    "        distance from sun to planet (used for conversion calculation)\n",
    "        \n",
    "    Output:\n",
    "    -------\n",
    "    x, y\n",
    "        x and y coordinates where sun is at origin\n",
    "    \"\"\"\n",
    "    rad = initial_deg*(np.pi/180)\n",
    "    x = distance*np.cos(rad)\n",
    "    y = distance*np.sin(rad)\n",
    "    return np.array([x, y])\n",
    "\n"
   ]
  },
  {
   "cell_type": "code",
   "execution_count": 27,
   "metadata": {
    "collapsed": false
   },
   "outputs": [
    {
     "name": "stdout",
     "output_type": "stream",
     "text": [
      "[  1.04884715e+08   2.65788724e+07]\n"
     ]
    }
   ],
   "source": [
    "initial_positions = polar_to_cartesian(initial_deg['Venus'], distance['Venus'])\n",
    "print(initial_positions)"
   ]
  },
  {
   "cell_type": "code",
   "execution_count": null,
   "metadata": {
    "collapsed": true
   },
   "outputs": [],
   "source": []
  }
 ],
 "metadata": {
  "kernelspec": {
   "display_name": "Python 3",
   "language": "python",
   "name": "python3"
  },
  "language_info": {
   "codemirror_mode": {
    "name": "ipython",
    "version": 3
   },
   "file_extension": ".py",
   "mimetype": "text/x-python",
   "name": "python",
   "nbconvert_exporter": "python",
   "pygments_lexer": "ipython3",
   "version": "3.5.1"
  }
 },
 "nbformat": 4,
 "nbformat_minor": 0
}
